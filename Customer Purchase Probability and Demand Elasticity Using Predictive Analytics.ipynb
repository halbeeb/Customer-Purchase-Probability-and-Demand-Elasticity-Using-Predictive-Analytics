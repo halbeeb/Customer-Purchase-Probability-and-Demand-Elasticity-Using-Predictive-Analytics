{
 "cells": [
  {
   "cell_type": "code",
   "execution_count": 38,
   "metadata": {},
   "outputs": [],
   "source": [
    "#Import the necessary library for Purchase Analytics\n",
    "import pandas as pd\n",
    "import numpy as np\n",
    "\n",
    "from sklearn.preprocessing import StandardScaler\n",
    "from sklearn.decomposition import PCA\n",
    "from sklearn.cluster import KMeans\n",
    "\n",
    "import pickle as pc\n",
    "\n",
    "import matplotlib.pyplot as plt\n",
    "import seaborn as sns\n",
    "from sklearn.linear_model import LogisticRegression\n"
   ]
  },
  {
   "cell_type": "code",
   "execution_count": 39,
   "metadata": {},
   "outputs": [],
   "source": [
    "#Import the data to be used for the analytics\n",
    "data=pd.read_csv(\"purchase data.csv\")\n",
    "\n",
    "#Import the Scaler saved\n",
    "scaler=pc.load(open(\"scaler.pickle\", \"rb\"))\n",
    "\n",
    "#Import the PCA\n",
    "pca=pc.load(open(\"pca.pickle\", \"rb\"))\n",
    "\n",
    "#Import K-means\n",
    "kmeans_pca=pc.load(open(\"kmeans_pca.pickle\", \"rb\"))\n",
    "\n",
    "#Standardisation\n",
    "attributes=data[[\"Sex\", \"Marital status\", \"Age\", \"Education\", \"Income\", \"Occupation\", \"Settlement size\"]]\n",
    "data_seg=scaler.transform(attributes)\n",
    "\n",
    "#Apply PCA to the data seg\n",
    "data_seg_pca=pca.transform(data_seg)\n",
    "\n",
    "#Segment data\n",
    "purc_seg_pca=kmeans_pca.predict(data_seg_pca)\n",
    "\n",
    "#Create a copy of the data frame\n",
    "purc_seg_pred=data.copy()\n",
    "\n",
    "#Add the purchase label and segment to the data\n",
    "purc_seg_pred[\"Segment\"]=purc_seg_pca\n",
    "\n",
    "#Add segment labels using Dummies\n",
    "brand_dummies=pd.get_dummies(purc_seg_pca, prefix=\"Brand\", prefix_sep=\"_\")\n",
    "purc_seg_pred=pd.concat([purc_seg_pred, brand_dummies], axis=1)\n",
    "\n",
    "purc_data=purc_seg_pred"
   ]
  },
  {
   "cell_type": "markdown",
   "metadata": {},
   "source": [
    "# Purchase Probability Model"
   ]
  },
  {
   "cell_type": "code",
   "execution_count": 42,
   "metadata": {},
   "outputs": [],
   "source": [
    "#Create the variables that let us predict what would happen\n",
    "Y=purc_data[\"Incidence\"] # This is to examine whether the purchases occur or not and this represents our dependent variable"
   ]
  },
  {
   "cell_type": "code",
   "execution_count": 58,
   "metadata": {},
   "outputs": [],
   "source": [
    "#This is to use average price of all the five brands as a single predictors whether customers would make a purchase or not\n",
    "X=pd.DataFrame()\n",
    "X[\"Avg_Price\"]=(purc_data[\"Price_1\"]+\n",
    "               purc_data[\"Price_2\"]+\n",
    "               purc_data[\"Price_3\"]+\n",
    "               purc_data[\"Price_4\"]+\n",
    "               purc_data[\"Price_5\"])/5"
   ]
  },
  {
   "cell_type": "code",
   "execution_count": 59,
   "metadata": {},
   "outputs": [
    {
     "data": {
      "text/plain": [
       "LogisticRegression(solver='sag')"
      ]
     },
     "execution_count": 59,
     "metadata": {},
     "output_type": "execute_result"
    }
   ],
   "source": [
    "#Build a purchase model using Logistic Model\n",
    "Purch_Model=LogisticRegression(solver=\"sag\")\n",
    "Purch_Model.fit(X,Y)"
   ]
  },
  {
   "cell_type": "code",
   "execution_count": 60,
   "metadata": {},
   "outputs": [
    {
     "data": {
      "text/plain": [
       "array([[-2.3602518]])"
      ]
     },
     "execution_count": 60,
     "metadata": {},
     "output_type": "execute_result"
    }
   ],
   "source": [
    "#To shows the exact probability of purchase as the coefficient of relationship between brand incidence and avg brand price\n",
    "Purch_Model.coef_"
   ]
  },
  {
   "cell_type": "markdown",
   "metadata": {},
   "source": [
    "# Price Elasticity of Purchase Probability"
   ]
  },
  {
   "cell_type": "code",
   "execution_count": 61,
   "metadata": {},
   "outputs": [
    {
     "data": {
      "text/html": [
       "<div>\n",
       "<style scoped>\n",
       "    .dataframe tbody tr th:only-of-type {\n",
       "        vertical-align: middle;\n",
       "    }\n",
       "\n",
       "    .dataframe tbody tr th {\n",
       "        vertical-align: top;\n",
       "    }\n",
       "\n",
       "    .dataframe thead th {\n",
       "        text-align: right;\n",
       "    }\n",
       "</style>\n",
       "<table border=\"1\" class=\"dataframe\">\n",
       "  <thead>\n",
       "    <tr style=\"text-align: right;\">\n",
       "      <th></th>\n",
       "      <th>count</th>\n",
       "      <th>mean</th>\n",
       "      <th>std</th>\n",
       "      <th>min</th>\n",
       "      <th>25%</th>\n",
       "      <th>50%</th>\n",
       "      <th>75%</th>\n",
       "      <th>max</th>\n",
       "    </tr>\n",
       "  </thead>\n",
       "  <tbody>\n",
       "    <tr>\n",
       "      <td>Price_1</td>\n",
       "      <td>58693.0</td>\n",
       "      <td>1.392074</td>\n",
       "      <td>0.091139</td>\n",
       "      <td>1.10</td>\n",
       "      <td>1.34</td>\n",
       "      <td>1.39</td>\n",
       "      <td>1.47</td>\n",
       "      <td>1.59</td>\n",
       "    </tr>\n",
       "    <tr>\n",
       "      <td>Price_2</td>\n",
       "      <td>58693.0</td>\n",
       "      <td>1.780999</td>\n",
       "      <td>0.170868</td>\n",
       "      <td>1.26</td>\n",
       "      <td>1.58</td>\n",
       "      <td>1.88</td>\n",
       "      <td>1.89</td>\n",
       "      <td>1.90</td>\n",
       "    </tr>\n",
       "    <tr>\n",
       "      <td>Price_3</td>\n",
       "      <td>58693.0</td>\n",
       "      <td>2.006789</td>\n",
       "      <td>0.046867</td>\n",
       "      <td>1.87</td>\n",
       "      <td>1.97</td>\n",
       "      <td>2.01</td>\n",
       "      <td>2.06</td>\n",
       "      <td>2.14</td>\n",
       "    </tr>\n",
       "    <tr>\n",
       "      <td>Price_4</td>\n",
       "      <td>58693.0</td>\n",
       "      <td>2.159945</td>\n",
       "      <td>0.089825</td>\n",
       "      <td>1.76</td>\n",
       "      <td>2.12</td>\n",
       "      <td>2.17</td>\n",
       "      <td>2.24</td>\n",
       "      <td>2.26</td>\n",
       "    </tr>\n",
       "    <tr>\n",
       "      <td>Price_5</td>\n",
       "      <td>58693.0</td>\n",
       "      <td>2.654798</td>\n",
       "      <td>0.098272</td>\n",
       "      <td>2.11</td>\n",
       "      <td>2.63</td>\n",
       "      <td>2.67</td>\n",
       "      <td>2.70</td>\n",
       "      <td>2.80</td>\n",
       "    </tr>\n",
       "  </tbody>\n",
       "</table>\n",
       "</div>"
      ],
      "text/plain": [
       "           count      mean       std   min   25%   50%   75%   max\n",
       "Price_1  58693.0  1.392074  0.091139  1.10  1.34  1.39  1.47  1.59\n",
       "Price_2  58693.0  1.780999  0.170868  1.26  1.58  1.88  1.89  1.90\n",
       "Price_3  58693.0  2.006789  0.046867  1.87  1.97  2.01  2.06  2.14\n",
       "Price_4  58693.0  2.159945  0.089825  1.76  2.12  2.17  2.24  2.26\n",
       "Price_5  58693.0  2.654798  0.098272  2.11  2.63  2.67  2.70  2.80"
      ]
     },
     "execution_count": 61,
     "metadata": {},
     "output_type": "execute_result"
    }
   ],
   "source": [
    "#To see the range of prices available in the purchase dataset\n",
    "purc_data[[\"Price_1\", \"Price_2\", \"Price_3\", \"Price_4\", \"Price_5\"]].describe().transpose()"
   ]
  },
  {
   "cell_type": "code",
   "execution_count": 62,
   "metadata": {},
   "outputs": [
    {
     "data": {
      "text/plain": [
       "array([0.3 , 0.31, 0.32, 0.33, 0.34, 0.35, 0.36, 0.37, 0.38, 0.39, 0.4 ,\n",
       "       0.41, 0.42, 0.43, 0.44, 0.45, 0.46, 0.47, 0.48, 0.49, 0.5 , 0.51,\n",
       "       0.52, 0.53, 0.54, 0.55, 0.56, 0.57, 0.58, 0.59, 0.6 , 0.61, 0.62,\n",
       "       0.63, 0.64, 0.65, 0.66, 0.67, 0.68, 0.69, 0.7 , 0.71, 0.72, 0.73,\n",
       "       0.74, 0.75, 0.76, 0.77, 0.78, 0.79, 0.8 , 0.81, 0.82, 0.83, 0.84,\n",
       "       0.85, 0.86, 0.87, 0.88, 0.89, 0.9 , 0.91, 0.92, 0.93, 0.94, 0.95,\n",
       "       0.96, 0.97, 0.98, 0.99, 1.  , 1.01, 1.02, 1.03, 1.04, 1.05, 1.06,\n",
       "       1.07, 1.08, 1.09, 1.1 , 1.11, 1.12, 1.13, 1.14, 1.15, 1.16, 1.17,\n",
       "       1.18, 1.19, 1.2 , 1.21, 1.22, 1.23, 1.24, 1.25, 1.26, 1.27, 1.28,\n",
       "       1.29, 1.3 , 1.31, 1.32, 1.33, 1.34, 1.35, 1.36, 1.37, 1.38, 1.39,\n",
       "       1.4 , 1.41, 1.42, 1.43, 1.44, 1.45, 1.46, 1.47, 1.48, 1.49, 1.5 ,\n",
       "       1.51, 1.52, 1.53, 1.54, 1.55, 1.56, 1.57, 1.58, 1.59, 1.6 , 1.61,\n",
       "       1.62, 1.63, 1.64, 1.65, 1.66, 1.67, 1.68, 1.69, 1.7 , 1.71, 1.72,\n",
       "       1.73, 1.74, 1.75, 1.76, 1.77, 1.78, 1.79, 1.8 , 1.81, 1.82, 1.83,\n",
       "       1.84, 1.85, 1.86, 1.87, 1.88, 1.89, 1.9 , 1.91, 1.92, 1.93, 1.94,\n",
       "       1.95, 1.96, 1.97, 1.98, 1.99, 2.  , 2.01, 2.02, 2.03, 2.04, 2.05,\n",
       "       2.06, 2.07, 2.08, 2.09, 2.1 , 2.11, 2.12, 2.13, 2.14, 2.15, 2.16,\n",
       "       2.17, 2.18, 2.19, 2.2 , 2.21, 2.22, 2.23, 2.24, 2.25, 2.26, 2.27,\n",
       "       2.28, 2.29, 2.3 , 2.31, 2.32, 2.33, 2.34, 2.35, 2.36, 2.37, 2.38,\n",
       "       2.39, 2.4 , 2.41, 2.42, 2.43, 2.44, 2.45, 2.46, 2.47, 2.48, 2.49,\n",
       "       2.5 , 2.51, 2.52, 2.53, 2.54, 2.55, 2.56, 2.57, 2.58, 2.59, 2.6 ,\n",
       "       2.61, 2.62, 2.63, 2.64, 2.65, 2.66, 2.67, 2.68, 2.69, 2.7 , 2.71,\n",
       "       2.72, 2.73, 2.74, 2.75, 2.76, 2.77, 2.78, 2.79, 2.8 , 2.81, 2.82,\n",
       "       2.83, 2.84, 2.85, 2.86, 2.87, 2.88, 2.89, 2.9 , 2.91, 2.92, 2.93,\n",
       "       2.94, 2.95, 2.96, 2.97, 2.98, 2.99, 3.  , 3.01, 3.02, 3.03, 3.04,\n",
       "       3.05, 3.06, 3.07, 3.08, 3.09, 3.1 , 3.11, 3.12, 3.13, 3.14, 3.15,\n",
       "       3.16, 3.17, 3.18, 3.19, 3.2 , 3.21, 3.22, 3.23, 3.24, 3.25, 3.26,\n",
       "       3.27, 3.28, 3.29, 3.3 , 3.31, 3.32, 3.33, 3.34, 3.35, 3.36, 3.37,\n",
       "       3.38, 3.39, 3.4 , 3.41, 3.42, 3.43, 3.44, 3.45, 3.46, 3.47, 3.48,\n",
       "       3.49, 3.5 , 3.51, 3.52, 3.53, 3.54, 3.55, 3.56, 3.57, 3.58, 3.59,\n",
       "       3.6 , 3.61, 3.62, 3.63, 3.64, 3.65, 3.66, 3.67, 3.68, 3.69, 3.7 ,\n",
       "       3.71, 3.72, 3.73, 3.74, 3.75, 3.76, 3.77, 3.78, 3.79, 3.8 , 3.81,\n",
       "       3.82, 3.83, 3.84, 3.85, 3.86, 3.87, 3.88, 3.89, 3.9 , 3.91, 3.92,\n",
       "       3.93, 3.94, 3.95, 3.96, 3.97, 3.98, 3.99])"
      ]
     },
     "execution_count": 62,
     "metadata": {},
     "output_type": "execute_result"
    }
   ],
   "source": [
    "#Set up price range for the Brand as this will be used in predicting the elasticity of purchase probability\n",
    "P_range=np.arange(0.3, 4,0.01)\n",
    "P_range"
   ]
  },
  {
   "cell_type": "code",
   "execution_count": 63,
   "metadata": {},
   "outputs": [],
   "source": [
    "#We  store this in data frame so that we can use it to predict the purchase probability\n",
    "P_range_df=pd.DataFrame(P_range)"
   ]
  },
  {
   "cell_type": "code",
   "execution_count": 64,
   "metadata": {},
   "outputs": [],
   "source": [
    "#From the above output, 1 shows the instance where customer would purchase and 0 shows the instance where no purchase"
   ]
  },
  {
   "cell_type": "code",
   "execution_count": 65,
   "metadata": {},
   "outputs": [
    {
     "data": {
      "text/plain": [
       "array([[0.0526116 , 0.9473884 ],\n",
       "       [0.05380053, 0.94619947],\n",
       "       [0.05501478, 0.94498522],\n",
       "       [0.05625479, 0.94374521],\n",
       "       [0.05752106, 0.94247894],\n",
       "       [0.05881405, 0.94118595],\n",
       "       [0.06013425, 0.93986575],\n",
       "       [0.06148216, 0.93851784],\n",
       "       [0.06285825, 0.93714175],\n",
       "       [0.06426303, 0.93573697],\n",
       "       [0.06569701, 0.93430299],\n",
       "       [0.06716069, 0.93283931],\n",
       "       [0.06865459, 0.93134541],\n",
       "       [0.07017921, 0.92982079],\n",
       "       [0.07173508, 0.92826492],\n",
       "       [0.07332273, 0.92667727],\n",
       "       [0.07494268, 0.92505732],\n",
       "       [0.07659545, 0.92340455],\n",
       "       [0.0782816 , 0.9217184 ],\n",
       "       [0.08000165, 0.91999835],\n",
       "       [0.08175614, 0.91824386],\n",
       "       [0.08354561, 0.91645439],\n",
       "       [0.08537061, 0.91462939],\n",
       "       [0.08723167, 0.91276833],\n",
       "       [0.08912936, 0.91087064],\n",
       "       [0.09106421, 0.90893579],\n",
       "       [0.09303678, 0.90696322],\n",
       "       [0.0950476 , 0.9049524 ],\n",
       "       [0.09709723, 0.90290277],\n",
       "       [0.09918622, 0.90081378],\n",
       "       [0.1013151 , 0.8986849 ],\n",
       "       [0.10348443, 0.89651557],\n",
       "       [0.10569475, 0.89430525],\n",
       "       [0.10794659, 0.89205341],\n",
       "       [0.1102405 , 0.8897595 ],\n",
       "       [0.11257699, 0.88742301],\n",
       "       [0.11495662, 0.88504338],\n",
       "       [0.11737988, 0.88262012],\n",
       "       [0.11984732, 0.88015268],\n",
       "       [0.12235943, 0.87764057],\n",
       "       [0.12491672, 0.87508328],\n",
       "       [0.12751969, 0.87248031],\n",
       "       [0.13016884, 0.86983116],\n",
       "       [0.13286464, 0.86713536],\n",
       "       [0.13560756, 0.86439244],\n",
       "       [0.13839808, 0.86160192],\n",
       "       [0.14123663, 0.85876337],\n",
       "       [0.14412367, 0.85587633],\n",
       "       [0.14705961, 0.85294039],\n",
       "       [0.15004488, 0.84995512],\n",
       "       [0.15307987, 0.84692013],\n",
       "       [0.15616497, 0.84383503],\n",
       "       [0.15930055, 0.84069945],\n",
       "       [0.16248696, 0.83751304],\n",
       "       [0.16572455, 0.83427545],\n",
       "       [0.16901363, 0.83098637],\n",
       "       [0.1723545 , 0.8276455 ],\n",
       "       [0.17574745, 0.82425255],\n",
       "       [0.17919272, 0.82080728],\n",
       "       [0.18269057, 0.81730943],\n",
       "       [0.1862412 , 0.8137588 ],\n",
       "       [0.1898448 , 0.8101552 ],\n",
       "       [0.19350156, 0.80649844],\n",
       "       [0.1972116 , 0.8027884 ],\n",
       "       [0.20097506, 0.79902494],\n",
       "       [0.20479201, 0.79520799],\n",
       "       [0.20866252, 0.79133748],\n",
       "       [0.21258663, 0.78741337],\n",
       "       [0.21656434, 0.78343566],\n",
       "       [0.22059562, 0.77940438],\n",
       "       [0.22468042, 0.77531958],\n",
       "       [0.22881866, 0.77118134],\n",
       "       [0.23301021, 0.76698979],\n",
       "       [0.23725492, 0.76274508],\n",
       "       [0.2415526 , 0.7584474 ],\n",
       "       [0.24590304, 0.75409696],\n",
       "       [0.25030597, 0.74969403],\n",
       "       [0.2547611 , 0.7452389 ],\n",
       "       [0.2592681 , 0.7407319 ],\n",
       "       [0.26382661, 0.73617339],\n",
       "       [0.26843622, 0.73156378],\n",
       "       [0.27309649, 0.72690351],\n",
       "       [0.27780695, 0.72219305],\n",
       "       [0.28256707, 0.71743293],\n",
       "       [0.2873763 , 0.7126237 ],\n",
       "       [0.29223404, 0.70776596],\n",
       "       [0.29713966, 0.70286034],\n",
       "       [0.30209247, 0.69790753],\n",
       "       [0.30709177, 0.69290823],\n",
       "       [0.3121368 , 0.6878632 ],\n",
       "       [0.31722677, 0.68277323],\n",
       "       [0.32236085, 0.67763915],\n",
       "       [0.32753815, 0.67246185],\n",
       "       [0.33275777, 0.66724223],\n",
       "       [0.33801876, 0.66198124],\n",
       "       [0.34332013, 0.65667987],\n",
       "       [0.34866086, 0.65133914],\n",
       "       [0.35403987, 0.64596013],\n",
       "       [0.35945607, 0.64054393],\n",
       "       [0.36490832, 0.63509168],\n",
       "       [0.37039545, 0.62960455],\n",
       "       [0.37591625, 0.62408375],\n",
       "       [0.38146948, 0.61853052],\n",
       "       [0.38705387, 0.61294613],\n",
       "       [0.39266812, 0.60733188],\n",
       "       [0.39831087, 0.60168913],\n",
       "       [0.40398078, 0.59601922],\n",
       "       [0.40967645, 0.59032355],\n",
       "       [0.41539645, 0.58460355],\n",
       "       [0.42113934, 0.57886066],\n",
       "       [0.42690365, 0.57309635],\n",
       "       [0.43268788, 0.56731212],\n",
       "       [0.43849051, 0.56150949],\n",
       "       [0.44431002, 0.55568998],\n",
       "       [0.45014485, 0.54985515],\n",
       "       [0.45599343, 0.54400657],\n",
       "       [0.46185416, 0.53814584],\n",
       "       [0.46772546, 0.53227454],\n",
       "       [0.47360571, 0.52639429],\n",
       "       [0.47949329, 0.52050671],\n",
       "       [0.48538658, 0.51461342],\n",
       "       [0.49128393, 0.50871607],\n",
       "       [0.4971837 , 0.5028163 ],\n",
       "       [0.50308426, 0.49691574],\n",
       "       [0.50898396, 0.49101604],\n",
       "       [0.51488116, 0.48511884],\n",
       "       [0.52077422, 0.47922578],\n",
       "       [0.52666151, 0.47333849],\n",
       "       [0.53254139, 0.46745861],\n",
       "       [0.53841224, 0.46158776],\n",
       "       [0.54427246, 0.45572754],\n",
       "       [0.55012044, 0.44987956],\n",
       "       [0.55595461, 0.44404539],\n",
       "       [0.56177339, 0.43822661],\n",
       "       [0.56757522, 0.43242478],\n",
       "       [0.57335858, 0.42664142],\n",
       "       [0.57912195, 0.42087805],\n",
       "       [0.58486383, 0.41513617],\n",
       "       [0.59058276, 0.40941724],\n",
       "       [0.59627728, 0.40372272],\n",
       "       [0.60194599, 0.39805401],\n",
       "       [0.60758748, 0.39241252],\n",
       "       [0.6132004 , 0.3867996 ],\n",
       "       [0.6187834 , 0.3812166 ],\n",
       "       [0.62433519, 0.37566481],\n",
       "       [0.62985449, 0.37014551],\n",
       "       [0.63534006, 0.36465994],\n",
       "       [0.6407907 , 0.3592093 ],\n",
       "       [0.64620523, 0.35379477],\n",
       "       [0.65158253, 0.34841747],\n",
       "       [0.65692149, 0.34307851],\n",
       "       [0.66222105, 0.33777895],\n",
       "       [0.66748018, 0.33251982],\n",
       "       [0.6726979 , 0.3273021 ],\n",
       "       [0.67787326, 0.32212674],\n",
       "       [0.68300535, 0.31699465],\n",
       "       [0.68809329, 0.31190671],\n",
       "       [0.69313626, 0.30686374],\n",
       "       [0.69813347, 0.30186653],\n",
       "       [0.70308416, 0.29691584],\n",
       "       [0.70798761, 0.29201239],\n",
       "       [0.71284316, 0.28715684],\n",
       "       [0.71765017, 0.28234983],\n",
       "       [0.72240805, 0.27759195],\n",
       "       [0.72711624, 0.27288376],\n",
       "       [0.73177423, 0.26822577],\n",
       "       [0.73638153, 0.26361847],\n",
       "       [0.74093771, 0.25906229],\n",
       "       [0.74544236, 0.25455764],\n",
       "       [0.74989513, 0.25010487],\n",
       "       [0.75429568, 0.24570432],\n",
       "       [0.75864372, 0.24135628],\n",
       "       [0.762939  , 0.237061  ],\n",
       "       [0.7671813 , 0.2328187 ],\n",
       "       [0.77137043, 0.22862957],\n",
       "       [0.77550624, 0.22449376],\n",
       "       [0.77958862, 0.22041138],\n",
       "       [0.78361747, 0.21638253],\n",
       "       [0.78759275, 0.21240725],\n",
       "       [0.79151442, 0.20848558],\n",
       "       [0.7953825 , 0.2046175 ],\n",
       "       [0.79919702, 0.20080298],\n",
       "       [0.80295804, 0.19704196],\n",
       "       [0.80666566, 0.19333434],\n",
       "       [0.81032   , 0.18968   ],\n",
       "       [0.8139212 , 0.1860788 ],\n",
       "       [0.81746943, 0.18253057],\n",
       "       [0.82096488, 0.17903512],\n",
       "       [0.82440778, 0.17559222],\n",
       "       [0.82779835, 0.17220165],\n",
       "       [0.83113686, 0.16886314],\n",
       "       [0.8344236 , 0.1655764 ],\n",
       "       [0.83765885, 0.16234115],\n",
       "       [0.84084295, 0.15915705],\n",
       "       [0.84397623, 0.15602377],\n",
       "       [0.84705905, 0.15294095],\n",
       "       [0.85009177, 0.14990823],\n",
       "       [0.85307479, 0.14692521],\n",
       "       [0.8560085 , 0.1439915 ],\n",
       "       [0.85889333, 0.14110667],\n",
       "       [0.86172969, 0.13827031],\n",
       "       [0.86451803, 0.13548197],\n",
       "       [0.86725881, 0.13274119],\n",
       "       [0.86995248, 0.13004752],\n",
       "       [0.87259952, 0.12740048],\n",
       "       [0.87520041, 0.12479959],\n",
       "       [0.87775564, 0.12224436],\n",
       "       [0.88026571, 0.11973429],\n",
       "       [0.88273112, 0.11726888],\n",
       "       [0.8851524 , 0.1148476 ],\n",
       "       [0.88753005, 0.11246995],\n",
       "       [0.8898646 , 0.1101354 ],\n",
       "       [0.89215658, 0.10784342],\n",
       "       [0.89440653, 0.10559347],\n",
       "       [0.89661497, 0.10338503],\n",
       "       [0.89878245, 0.10121755],\n",
       "       [0.90090951, 0.09909049],\n",
       "       [0.9029967 , 0.0970033 ],\n",
       "       [0.90504456, 0.09495544],\n",
       "       [0.90705363, 0.09294637],\n",
       "       [0.90902447, 0.09097553],\n",
       "       [0.91095762, 0.08904238],\n",
       "       [0.91285363, 0.08714637],\n",
       "       [0.91471305, 0.08528695],\n",
       "       [0.91653643, 0.08346357],\n",
       "       [0.9183243 , 0.0816757 ],\n",
       "       [0.92007721, 0.07992279],\n",
       "       [0.92179571, 0.07820429],\n",
       "       [0.92348033, 0.07651967],\n",
       "       [0.9251316 , 0.0748684 ],\n",
       "       [0.92675007, 0.07324993],\n",
       "       [0.92833626, 0.07166374],\n",
       "       [0.9298907 , 0.0701093 ],\n",
       "       [0.93141392, 0.06858608],\n",
       "       [0.93290643, 0.06709357],\n",
       "       [0.93436875, 0.06563125],\n",
       "       [0.93580139, 0.06419861],\n",
       "       [0.93720486, 0.06279514],\n",
       "       [0.93857967, 0.06142033],\n",
       "       [0.9399263 , 0.0600737 ],\n",
       "       [0.94124525, 0.05875475],\n",
       "       [0.94253702, 0.05746298],\n",
       "       [0.94380209, 0.05619791],\n",
       "       [0.94504092, 0.05495908],\n",
       "       [0.94625401, 0.05374599],\n",
       "       [0.9474418 , 0.0525582 ],\n",
       "       [0.94860477, 0.05139523],\n",
       "       [0.94974338, 0.05025662],\n",
       "       [0.95085806, 0.04914194],\n",
       "       [0.95194927, 0.04805073],\n",
       "       [0.95301745, 0.04698255],\n",
       "       [0.95406303, 0.04593697],\n",
       "       [0.95508644, 0.04491356],\n",
       "       [0.95608809, 0.04391191],\n",
       "       [0.95706841, 0.04293159],\n",
       "       [0.95802781, 0.04197219],\n",
       "       [0.95896669, 0.04103331],\n",
       "       [0.95988544, 0.04011456],\n",
       "       [0.96078447, 0.03921553],\n",
       "       [0.96166415, 0.03833585],\n",
       "       [0.96252486, 0.03747514],\n",
       "       [0.96336699, 0.03663301],\n",
       "       [0.9641909 , 0.0358091 ],\n",
       "       [0.96499695, 0.03500305],\n",
       "       [0.9657855 , 0.0342145 ],\n",
       "       [0.9665569 , 0.0334431 ],\n",
       "       [0.9673115 , 0.0326885 ],\n",
       "       [0.96804964, 0.03195036],\n",
       "       [0.96877164, 0.03122836],\n",
       "       [0.96947785, 0.03052215],\n",
       "       [0.97016857, 0.02983143],\n",
       "       [0.97084414, 0.02915586],\n",
       "       [0.97150485, 0.02849515],\n",
       "       [0.97215102, 0.02784898],\n",
       "       [0.97278295, 0.02721705],\n",
       "       [0.97340093, 0.02659907],\n",
       "       [0.97400526, 0.02599474],\n",
       "       [0.97459621, 0.02540379],\n",
       "       [0.97517407, 0.02482593],\n",
       "       [0.97573912, 0.02426088],\n",
       "       [0.97629161, 0.02370839],\n",
       "       [0.97683183, 0.02316817],\n",
       "       [0.97736002, 0.02263998],\n",
       "       [0.97787644, 0.02212356],\n",
       "       [0.97838134, 0.02161866],\n",
       "       [0.97887497, 0.02112503],\n",
       "       [0.97935756, 0.02064244],\n",
       "       [0.97982936, 0.02017064],\n",
       "       [0.98029059, 0.01970941],\n",
       "       [0.98074148, 0.01925852],\n",
       "       [0.98118225, 0.01881775],\n",
       "       [0.98161313, 0.01838687],\n",
       "       [0.98203432, 0.01796568],\n",
       "       [0.98244603, 0.01755397],\n",
       "       [0.98284847, 0.01715153],\n",
       "       [0.98324185, 0.01675815],\n",
       "       [0.98362635, 0.01637365],\n",
       "       [0.98400218, 0.01599782],\n",
       "       [0.98436951, 0.01563049],\n",
       "       [0.98472854, 0.01527146],\n",
       "       [0.98507945, 0.01492055],\n",
       "       [0.98542242, 0.01457758],\n",
       "       [0.98575761, 0.01424239],\n",
       "       [0.98608521, 0.01391479],\n",
       "       [0.98640538, 0.01359462],\n",
       "       [0.98671827, 0.01328173],\n",
       "       [0.98702407, 0.01297593],\n",
       "       [0.98732291, 0.01267709],\n",
       "       [0.98761495, 0.01238505],\n",
       "       [0.98790035, 0.01209965],\n",
       "       [0.98817926, 0.01182074],\n",
       "       [0.9884518 , 0.0115482 ],\n",
       "       [0.98871814, 0.01128186],\n",
       "       [0.9889784 , 0.0110216 ],\n",
       "       [0.98923272, 0.01076728],\n",
       "       [0.98948124, 0.01051876],\n",
       "       [0.98972408, 0.01027592],\n",
       "       [0.98996137, 0.01003863],\n",
       "       [0.99019324, 0.00980676],\n",
       "       [0.9904198 , 0.0095802 ],\n",
       "       [0.99064118, 0.00935882],\n",
       "       [0.99085749, 0.00914251],\n",
       "       [0.99106885, 0.00893115],\n",
       "       [0.99127536, 0.00872464],\n",
       "       [0.99147713, 0.00852287],\n",
       "       [0.99167429, 0.00832571],\n",
       "       [0.99186691, 0.00813309],\n",
       "       [0.99205512, 0.00794488],\n",
       "       [0.992239  , 0.007761  ],\n",
       "       [0.99241867, 0.00758133],\n",
       "       [0.9925942 , 0.0074058 ],\n",
       "       [0.9927657 , 0.0072343 ],\n",
       "       [0.99293326, 0.00706674],\n",
       "       [0.99309696, 0.00690304],\n",
       "       [0.99325689, 0.00674311],\n",
       "       [0.99341315, 0.00658685],\n",
       "       [0.9935658 , 0.0064342 ],\n",
       "       [0.99371495, 0.00628505],\n",
       "       [0.99386065, 0.00613935],\n",
       "       [0.994003  , 0.005997  ],\n",
       "       [0.99414207, 0.00585793],\n",
       "       [0.99427793, 0.00572207],\n",
       "       [0.99441066, 0.00558934],\n",
       "       [0.99454032, 0.00545968],\n",
       "       [0.994667  , 0.005333  ],\n",
       "       [0.99479075, 0.00520925],\n",
       "       [0.99491164, 0.00508836],\n",
       "       [0.99502974, 0.00497026],\n",
       "       [0.99514512, 0.00485488],\n",
       "       [0.99525783, 0.00474217],\n",
       "       [0.99536793, 0.00463207],\n",
       "       [0.99547549, 0.00452451],\n",
       "       [0.99558056, 0.00441944],\n",
       "       [0.99568321, 0.00431679],\n",
       "       [0.99578348, 0.00421652],\n",
       "       [0.99588143, 0.00411857],\n",
       "       [0.99597711, 0.00402289],\n",
       "       [0.99607058, 0.00392942],\n",
       "       [0.99616189, 0.00383811],\n",
       "       [0.99625108, 0.00374892],\n",
       "       [0.99633821, 0.00366179],\n",
       "       [0.99642332, 0.00357668],\n",
       "       [0.99650646, 0.00349354],\n",
       "       [0.99658767, 0.00341233],\n",
       "       [0.996667  , 0.003333  ],\n",
       "       [0.99674449, 0.00325551],\n",
       "       [0.99682019, 0.00317981],\n",
       "       [0.99689413, 0.00310587],\n",
       "       [0.99696636, 0.00303364],\n",
       "       [0.99703691, 0.00296309]])"
      ]
     },
     "execution_count": 65,
     "metadata": {},
     "output_type": "execute_result"
    }
   ],
   "source": [
    "#Thus, we the price range is used here to predict the purchase incidence probability of customer\n",
    "Y_pred_pro=Purch_Model.predict_proba(P_range_df)\n",
    "Y_pred_pro"
   ]
  },
  {
   "cell_type": "code",
   "execution_count": 66,
   "metadata": {},
   "outputs": [
    {
     "data": {
      "text/plain": [
       "array([1, 1, 1, 1, 1, 1, 1, 1, 1, 1, 1, 1, 1, 1, 1, 1, 1, 1, 1, 1, 1, 1,\n",
       "       1, 1, 1, 1, 1, 1, 1, 1, 1, 1, 1, 1, 1, 1, 1, 1, 1, 1, 1, 1, 1, 1,\n",
       "       1, 1, 1, 1, 1, 1, 1, 1, 1, 1, 1, 1, 1, 1, 1, 1, 1, 1, 1, 1, 1, 1,\n",
       "       1, 1, 1, 1, 1, 1, 1, 1, 1, 1, 1, 1, 1, 1, 1, 1, 1, 1, 1, 1, 1, 1,\n",
       "       1, 1, 1, 1, 1, 1, 1, 1, 1, 1, 1, 1, 1, 1, 1, 1, 1, 1, 1, 1, 1, 1,\n",
       "       1, 1, 1, 1, 1, 1, 1, 1, 1, 1, 1, 1, 1, 0, 0, 0, 0, 0, 0, 0, 0, 0,\n",
       "       0, 0, 0, 0, 0, 0, 0, 0, 0, 0, 0, 0, 0, 0, 0, 0, 0, 0, 0, 0, 0, 0,\n",
       "       0, 0, 0, 0, 0, 0, 0, 0, 0, 0, 0, 0, 0, 0, 0, 0, 0, 0, 0, 0, 0, 0,\n",
       "       0, 0, 0, 0, 0, 0, 0, 0, 0, 0, 0, 0, 0, 0, 0, 0, 0, 0, 0, 0, 0, 0,\n",
       "       0, 0, 0, 0, 0, 0, 0, 0, 0, 0, 0, 0, 0, 0, 0, 0, 0, 0, 0, 0, 0, 0,\n",
       "       0, 0, 0, 0, 0, 0, 0, 0, 0, 0, 0, 0, 0, 0, 0, 0, 0, 0, 0, 0, 0, 0,\n",
       "       0, 0, 0, 0, 0, 0, 0, 0, 0, 0, 0, 0, 0, 0, 0, 0, 0, 0, 0, 0, 0, 0,\n",
       "       0, 0, 0, 0, 0, 0, 0, 0, 0, 0, 0, 0, 0, 0, 0, 0, 0, 0, 0, 0, 0, 0,\n",
       "       0, 0, 0, 0, 0, 0, 0, 0, 0, 0, 0, 0, 0, 0, 0, 0, 0, 0, 0, 0, 0, 0,\n",
       "       0, 0, 0, 0, 0, 0, 0, 0, 0, 0, 0, 0, 0, 0, 0, 0, 0, 0, 0, 0, 0, 0,\n",
       "       0, 0, 0, 0, 0, 0, 0, 0, 0, 0, 0, 0, 0, 0, 0, 0, 0, 0, 0, 0, 0, 0,\n",
       "       0, 0, 0, 0, 0, 0, 0, 0, 0, 0, 0, 0, 0, 0, 0, 0, 0, 0], dtype=int64)"
      ]
     },
     "execution_count": 66,
     "metadata": {},
     "output_type": "execute_result"
    }
   ],
   "source": [
    "#Thus, we the price range is used here to predict the purchase incidence of customer\n",
    "Y_predicted=Purch_Model.predict(P_range_df)\n",
    "Y_predicted"
   ]
  },
  {
   "cell_type": "code",
   "execution_count": 67,
   "metadata": {},
   "outputs": [],
   "source": [
    "#From the above, second columns represent the probability that customers make purchase and it is segregated here\n",
    "Purch_Prob=Y_pred_pro[:][:,1]"
   ]
  },
  {
   "cell_type": "markdown",
   "metadata": {},
   "source": [
    "##### Elasticity=beta * price * (1-Prob(Purchase))"
   ]
  },
  {
   "cell_type": "code",
   "execution_count": 68,
   "metadata": {},
   "outputs": [],
   "source": [
    "#Price elasticticy computation using the formulae above\n",
    "pe=Purch_Model.coef_[:,0]*P_range*(1-Purch_Prob)"
   ]
  },
  {
   "cell_type": "code",
   "execution_count": 69,
   "metadata": {},
   "outputs": [],
   "source": [
    "#Create a dataframe for different price elasticities\n",
    "Price_Elasts=pd.DataFrame(P_range)"
   ]
  },
  {
   "cell_type": "code",
   "execution_count": 70,
   "metadata": {},
   "outputs": [
    {
     "data": {
      "text/html": [
       "<div>\n",
       "<style scoped>\n",
       "    .dataframe tbody tr th:only-of-type {\n",
       "        vertical-align: middle;\n",
       "    }\n",
       "\n",
       "    .dataframe tbody tr th {\n",
       "        vertical-align: top;\n",
       "    }\n",
       "\n",
       "    .dataframe thead th {\n",
       "        text-align: right;\n",
       "    }\n",
       "</style>\n",
       "<table border=\"1\" class=\"dataframe\">\n",
       "  <thead>\n",
       "    <tr style=\"text-align: right;\">\n",
       "      <th></th>\n",
       "      <th>Pricing</th>\n",
       "      <th>AVG Price Elasticity</th>\n",
       "    </tr>\n",
       "  </thead>\n",
       "  <tbody>\n",
       "    <tr>\n",
       "      <td>0</td>\n",
       "      <td>0.30</td>\n",
       "      <td>-0.037253</td>\n",
       "    </tr>\n",
       "    <tr>\n",
       "      <td>1</td>\n",
       "      <td>0.31</td>\n",
       "      <td>-0.039365</td>\n",
       "    </tr>\n",
       "    <tr>\n",
       "      <td>2</td>\n",
       "      <td>0.32</td>\n",
       "      <td>-0.041552</td>\n",
       "    </tr>\n",
       "    <tr>\n",
       "      <td>3</td>\n",
       "      <td>0.33</td>\n",
       "      <td>-0.043816</td>\n",
       "    </tr>\n",
       "    <tr>\n",
       "      <td>4</td>\n",
       "      <td>0.34</td>\n",
       "      <td>-0.046160</td>\n",
       "    </tr>\n",
       "    <tr>\n",
       "      <td>5</td>\n",
       "      <td>0.35</td>\n",
       "      <td>-0.048586</td>\n",
       "    </tr>\n",
       "    <tr>\n",
       "      <td>6</td>\n",
       "      <td>0.36</td>\n",
       "      <td>-0.051096</td>\n",
       "    </tr>\n",
       "    <tr>\n",
       "      <td>7</td>\n",
       "      <td>0.37</td>\n",
       "      <td>-0.053692</td>\n",
       "    </tr>\n",
       "    <tr>\n",
       "      <td>8</td>\n",
       "      <td>0.38</td>\n",
       "      <td>-0.056377</td>\n",
       "    </tr>\n",
       "    <tr>\n",
       "      <td>9</td>\n",
       "      <td>0.39</td>\n",
       "      <td>-0.059154</td>\n",
       "    </tr>\n",
       "    <tr>\n",
       "      <td>10</td>\n",
       "      <td>0.40</td>\n",
       "      <td>-0.062025</td>\n",
       "    </tr>\n",
       "    <tr>\n",
       "      <td>11</td>\n",
       "      <td>0.41</td>\n",
       "      <td>-0.064992</td>\n",
       "    </tr>\n",
       "    <tr>\n",
       "      <td>12</td>\n",
       "      <td>0.42</td>\n",
       "      <td>-0.068058</td>\n",
       "    </tr>\n",
       "    <tr>\n",
       "      <td>13</td>\n",
       "      <td>0.43</td>\n",
       "      <td>-0.071225</td>\n",
       "    </tr>\n",
       "    <tr>\n",
       "      <td>14</td>\n",
       "      <td>0.44</td>\n",
       "      <td>-0.074498</td>\n",
       "    </tr>\n",
       "    <tr>\n",
       "      <td>15</td>\n",
       "      <td>0.45</td>\n",
       "      <td>-0.077877</td>\n",
       "    </tr>\n",
       "    <tr>\n",
       "      <td>16</td>\n",
       "      <td>0.46</td>\n",
       "      <td>-0.081366</td>\n",
       "    </tr>\n",
       "    <tr>\n",
       "      <td>17</td>\n",
       "      <td>0.47</td>\n",
       "      <td>-0.084969</td>\n",
       "    </tr>\n",
       "    <tr>\n",
       "      <td>18</td>\n",
       "      <td>0.48</td>\n",
       "      <td>-0.088687</td>\n",
       "    </tr>\n",
       "    <tr>\n",
       "      <td>19</td>\n",
       "      <td>0.49</td>\n",
       "      <td>-0.092524</td>\n",
       "    </tr>\n",
       "  </tbody>\n",
       "</table>\n",
       "</div>"
      ],
      "text/plain": [
       "    Pricing  AVG Price Elasticity\n",
       "0      0.30             -0.037253\n",
       "1      0.31             -0.039365\n",
       "2      0.32             -0.041552\n",
       "3      0.33             -0.043816\n",
       "4      0.34             -0.046160\n",
       "5      0.35             -0.048586\n",
       "6      0.36             -0.051096\n",
       "7      0.37             -0.053692\n",
       "8      0.38             -0.056377\n",
       "9      0.39             -0.059154\n",
       "10     0.40             -0.062025\n",
       "11     0.41             -0.064992\n",
       "12     0.42             -0.068058\n",
       "13     0.43             -0.071225\n",
       "14     0.44             -0.074498\n",
       "15     0.45             -0.077877\n",
       "16     0.46             -0.081366\n",
       "17     0.47             -0.084969\n",
       "18     0.48             -0.088687\n",
       "19     0.49             -0.092524"
      ]
     },
     "execution_count": 70,
     "metadata": {},
     "output_type": "execute_result"
    }
   ],
   "source": [
    "Price_Elasts=Price_Elasts.rename(columns={0: \"Pricing\"})\n",
    "Price_Elasts[\"AVG Price Elasticity\"]=pe\n",
    "Price_Elasts.head(20)"
   ]
  },
  {
   "cell_type": "code",
   "execution_count": 71,
   "metadata": {},
   "outputs": [
    {
     "data": {
      "text/plain": [
       "Text(0.5, 1.0, 'Price Elasticity of Purchase Probability')"
      ]
     },
     "execution_count": 71,
     "metadata": {},
     "output_type": "execute_result"
    },
    {
     "data": {
      "image/png": "[encoded data removed]",
      "text/plain": [
       "<Figure size 720x432 with 1 Axes>"
      ]
     },
     "metadata": {
      "needs_background": "light"
     },
     "output_type": "display_data"
    }
   ],
   "source": [
    "plt.figure(figsize=(10,6))\n",
    "plt.plot(P_range, pe, color=\"r\")\n",
    "plt.xlabel(\"Pricing Strategies\")\n",
    "plt.ylabel(\"Price Elasticity\")\n",
    "plt.title(\"Price Elasticity of Purchase Probability\")"
   ]
  },
  {
   "cell_type": "markdown",
   "metadata": {},
   "source": [
    "# Purchase Probability by Segments\n",
    "\n",
    "### Segment 1 - Career-Focused"
   ]
  },
  {
   "cell_type": "code",
   "execution_count": 72,
   "metadata": {},
   "outputs": [],
   "source": [
    "#The career-focused segment 1\n",
    "seg1=purc_data[purc_data[\"Segment\"]==1]"
   ]
  },
  {
   "cell_type": "code",
   "execution_count": 73,
   "metadata": {},
   "outputs": [],
   "source": [
    "Y1=seg1[\"Incidence\"]\n",
    "X1=pd.DataFrame()\n",
    "X1[\"AVG Price\"]=(seg1[\"Price_1\"]+\n",
    "               seg1[\"Price_2\"]+\n",
    "               seg1[\"Price_3\"]+\n",
    "               seg1[\"Price_4\"]+\n",
    "               seg1[\"Price_5\"])/5"
   ]
  },
  {
   "cell_type": "code",
   "execution_count": 74,
   "metadata": {},
   "outputs": [
    {
     "data": {
      "text/plain": [
       "LogisticRegression(solver='sag')"
      ]
     },
     "execution_count": 74,
     "metadata": {},
     "output_type": "execute_result"
    }
   ],
   "source": [
    "seg1_incidence=LogisticRegression(solver=\"sag\")\n",
    "seg1_incidence.fit(X1, Y1)"
   ]
  },
  {
   "cell_type": "code",
   "execution_count": 75,
   "metadata": {},
   "outputs": [
    {
     "data": {
      "text/plain": [
       "array([[-1.72293392]])"
      ]
     },
     "execution_count": 75,
     "metadata": {},
     "output_type": "execute_result"
    }
   ],
   "source": [
    "seg1_incidence.coef_"
   ]
  },
  {
   "cell_type": "code",
   "execution_count": 76,
   "metadata": {},
   "outputs": [],
   "source": [
    "#Thus, we the price range is used here to predict the purchase incidence of customer\n",
    "seg1_pred=seg1_incidence.predict(P_range_df)\n",
    "seg1_pred_pro=seg1_incidence.predict_proba(P_range_df)\n",
    "seg1_pred_pro=seg1_pred_pro[:][:,1]\n",
    "#Price elasticticy computation using the formulae above\n",
    "pe1=seg1_incidence.coef_[:,0]*P_range*(1-seg1_pred_pro)"
   ]
  },
  {
   "cell_type": "code",
   "execution_count": 77,
   "metadata": {},
   "outputs": [
    {
     "data": {
      "text/html": [
       "<div>\n",
       "<style scoped>\n",
       "    .dataframe tbody tr th:only-of-type {\n",
       "        vertical-align: middle;\n",
       "    }\n",
       "\n",
       "    .dataframe tbody tr th {\n",
       "        vertical-align: top;\n",
       "    }\n",
       "\n",
       "    .dataframe thead th {\n",
       "        text-align: right;\n",
       "    }\n",
       "</style>\n",
       "<table border=\"1\" class=\"dataframe\">\n",
       "  <thead>\n",
       "    <tr style=\"text-align: right;\">\n",
       "      <th></th>\n",
       "      <th>Pricing</th>\n",
       "      <th>AVG Price Elasticity</th>\n",
       "      <th>AVG Price Elasticity Seg 1</th>\n",
       "    </tr>\n",
       "  </thead>\n",
       "  <tbody>\n",
       "    <tr>\n",
       "      <td>0</td>\n",
       "      <td>0.30</td>\n",
       "      <td>-0.037253</td>\n",
       "      <td>-0.052588</td>\n",
       "    </tr>\n",
       "    <tr>\n",
       "      <td>1</td>\n",
       "      <td>0.31</td>\n",
       "      <td>-0.039365</td>\n",
       "      <td>-0.055188</td>\n",
       "    </tr>\n",
       "    <tr>\n",
       "      <td>2</td>\n",
       "      <td>0.32</td>\n",
       "      <td>-0.041552</td>\n",
       "      <td>-0.057854</td>\n",
       "    </tr>\n",
       "    <tr>\n",
       "      <td>3</td>\n",
       "      <td>0.33</td>\n",
       "      <td>-0.043816</td>\n",
       "      <td>-0.060589</td>\n",
       "    </tr>\n",
       "    <tr>\n",
       "      <td>4</td>\n",
       "      <td>0.34</td>\n",
       "      <td>-0.046160</td>\n",
       "      <td>-0.063392</td>\n",
       "    </tr>\n",
       "    <tr>\n",
       "      <td>5</td>\n",
       "      <td>0.35</td>\n",
       "      <td>-0.048586</td>\n",
       "      <td>-0.066266</td>\n",
       "    </tr>\n",
       "    <tr>\n",
       "      <td>6</td>\n",
       "      <td>0.36</td>\n",
       "      <td>-0.051096</td>\n",
       "      <td>-0.069212</td>\n",
       "    </tr>\n",
       "    <tr>\n",
       "      <td>7</td>\n",
       "      <td>0.37</td>\n",
       "      <td>-0.053692</td>\n",
       "      <td>-0.072230</td>\n",
       "    </tr>\n",
       "    <tr>\n",
       "      <td>8</td>\n",
       "      <td>0.38</td>\n",
       "      <td>-0.056377</td>\n",
       "      <td>-0.075323</td>\n",
       "    </tr>\n",
       "    <tr>\n",
       "      <td>9</td>\n",
       "      <td>0.39</td>\n",
       "      <td>-0.059154</td>\n",
       "      <td>-0.078492</td>\n",
       "    </tr>\n",
       "    <tr>\n",
       "      <td>10</td>\n",
       "      <td>0.40</td>\n",
       "      <td>-0.062025</td>\n",
       "      <td>-0.081738</td>\n",
       "    </tr>\n",
       "    <tr>\n",
       "      <td>11</td>\n",
       "      <td>0.41</td>\n",
       "      <td>-0.064992</td>\n",
       "      <td>-0.085062</td>\n",
       "    </tr>\n",
       "    <tr>\n",
       "      <td>12</td>\n",
       "      <td>0.42</td>\n",
       "      <td>-0.068058</td>\n",
       "      <td>-0.088466</td>\n",
       "    </tr>\n",
       "    <tr>\n",
       "      <td>13</td>\n",
       "      <td>0.43</td>\n",
       "      <td>-0.071225</td>\n",
       "      <td>-0.091951</td>\n",
       "    </tr>\n",
       "    <tr>\n",
       "      <td>14</td>\n",
       "      <td>0.44</td>\n",
       "      <td>-0.074498</td>\n",
       "      <td>-0.095518</td>\n",
       "    </tr>\n",
       "    <tr>\n",
       "      <td>15</td>\n",
       "      <td>0.45</td>\n",
       "      <td>-0.077877</td>\n",
       "      <td>-0.099170</td>\n",
       "    </tr>\n",
       "    <tr>\n",
       "      <td>16</td>\n",
       "      <td>0.46</td>\n",
       "      <td>-0.081366</td>\n",
       "      <td>-0.102907</td>\n",
       "    </tr>\n",
       "    <tr>\n",
       "      <td>17</td>\n",
       "      <td>0.47</td>\n",
       "      <td>-0.084969</td>\n",
       "      <td>-0.106730</td>\n",
       "    </tr>\n",
       "    <tr>\n",
       "      <td>18</td>\n",
       "      <td>0.48</td>\n",
       "      <td>-0.088687</td>\n",
       "      <td>-0.110642</td>\n",
       "    </tr>\n",
       "    <tr>\n",
       "      <td>19</td>\n",
       "      <td>0.49</td>\n",
       "      <td>-0.092524</td>\n",
       "      <td>-0.114643</td>\n",
       "    </tr>\n",
       "  </tbody>\n",
       "</table>\n",
       "</div>"
      ],
      "text/plain": [
       "    Pricing  AVG Price Elasticity  AVG Price Elasticity Seg 1\n",
       "0      0.30             -0.037253                   -0.052588\n",
       "1      0.31             -0.039365                   -0.055188\n",
       "2      0.32             -0.041552                   -0.057854\n",
       "3      0.33             -0.043816                   -0.060589\n",
       "4      0.34             -0.046160                   -0.063392\n",
       "5      0.35             -0.048586                   -0.066266\n",
       "6      0.36             -0.051096                   -0.069212\n",
       "7      0.37             -0.053692                   -0.072230\n",
       "8      0.38             -0.056377                   -0.075323\n",
       "9      0.39             -0.059154                   -0.078492\n",
       "10     0.40             -0.062025                   -0.081738\n",
       "11     0.41             -0.064992                   -0.085062\n",
       "12     0.42             -0.068058                   -0.088466\n",
       "13     0.43             -0.071225                   -0.091951\n",
       "14     0.44             -0.074498                   -0.095518\n",
       "15     0.45             -0.077877                   -0.099170\n",
       "16     0.46             -0.081366                   -0.102907\n",
       "17     0.47             -0.084969                   -0.106730\n",
       "18     0.48             -0.088687                   -0.110642\n",
       "19     0.49             -0.092524                   -0.114643"
      ]
     },
     "execution_count": 77,
     "metadata": {},
     "output_type": "execute_result"
    }
   ],
   "source": [
    "#Add the price elasticity of segment 1 to the dataframe\n",
    "Price_Elasts[\"AVG Price Elasticity Seg 1\"]=pe1\n",
    "Price_Elasts.head(20)"
   ]
  },
  {
   "cell_type": "code",
   "execution_count": 78,
   "metadata": {},
   "outputs": [
    {
     "data": {
      "text/plain": [
       "Text(0.5, 1.0, 'Price Elasticity of Purchase Probability')"
      ]
     },
     "execution_count": 78,
     "metadata": {},
     "output_type": "execute_result"
    },
    {
     "data": {
      "image/png": "[encoded data removed]",
      "text/plain": [
       "<Figure size 864x504 with 1 Axes>"
      ]
     },
     "metadata": {
      "needs_background": "light"
     },
     "output_type": "display_data"
    }
   ],
   "source": [
    "plt.figure(figsize=(12,7))\n",
    "plt.plot(P_range, pe, color=\"r\")\n",
    "plt.plot(P_range, pe1, color=\"b\")\n",
    "plt.xlabel(\"Pricing Strategies\")\n",
    "plt.ylabel(\"Price Elasticity\")\n",
    "plt.title(\"Price Elasticity of Purchase Probability\")"
   ]
  },
  {
   "cell_type": "markdown",
   "metadata": {},
   "source": [
    "# Purchase Probability by Segments\n",
    "\n",
    "### Segment 2: Fewer-opportunities"
   ]
  },
  {
   "cell_type": "code",
   "execution_count": 79,
   "metadata": {},
   "outputs": [],
   "source": [
    "#The Fewer-Opportunities segment 1\n",
    "seg2=purc_data[purc_data[\"Segment\"]==2]\n",
    "\n",
    "#Logistic Regression factors\n",
    "Y2=seg2[\"Incidence\"]\n",
    "X2=pd.DataFrame()\n",
    "X2[\"AVG Price\"]=(seg2[\"Price_1\"]+\n",
    "               seg2[\"Price_2\"]+\n",
    "               seg2[\"Price_3\"]+\n",
    "               seg2[\"Price_4\"]+\n",
    "               seg2[\"Price_5\"])/5\n",
    "\n",
    "seg2_incidence=LogisticRegression(solver=\"sag\")\n",
    "seg2_incidence.fit(X2, Y2)\n",
    "\n",
    "#Thus, we the price range is used here to predict the purchase incidence of customer\n",
    "seg2_pred=seg2_incidence.predict(P_range_df)\n",
    "seg2_pred_pro=seg2_incidence.predict_proba(P_range_df)\n",
    "seg2_pred_pro=seg2_pred_pro[:][:,1]\n",
    "#Price elasticticy computation using the formulae above\n",
    "pe2=seg2_incidence.coef_[:,0]*P_range*(1-seg2_pred_pro)\n",
    "\n",
    "#Add the price elasticity of segment 1 to the dataframe\n",
    "Price_Elasts[\"AVG Price Elasticity Seg 2\"]=pe2\n"
   ]
  },
  {
   "cell_type": "code",
   "execution_count": 80,
   "metadata": {},
   "outputs": [
    {
     "data": {
      "text/plain": [
       "Text(0.5, 1.0, 'Price Elasticity of Purchase Probability')"
      ]
     },
     "execution_count": 80,
     "metadata": {},
     "output_type": "execute_result"
    },
    {
     "data": {
      "image/png": "[encoded data removed]",
      "text/plain": [
       "<Figure size 864x504 with 1 Axes>"
      ]
     },
     "metadata": {
      "needs_background": "light"
     },
     "output_type": "display_data"
    }
   ],
   "source": [
    "plt.figure(figsize=(12,7))\n",
    "plt.plot(P_range, pe, color=\"r\")\n",
    "plt.plot(P_range, pe1, color=\"b\")\n",
    "plt.plot(P_range, pe2, color=\"orange\")\n",
    "plt.xlabel(\"Pricing Strategies\")\n",
    "plt.ylabel(\"Price Elasticity\")\n",
    "plt.title(\"Price Elasticity of Purchase Probability\")"
   ]
  },
  {
   "cell_type": "markdown",
   "metadata": {},
   "source": [
    "# Purchase Probability by Segments\n",
    "\n",
    "### Segment 3: Well-Off"
   ]
  },
  {
   "cell_type": "code",
   "execution_count": 81,
   "metadata": {},
   "outputs": [],
   "source": [
    "#The Well-Off segment 1\n",
    "seg3=purc_data[purc_data[\"Segment\"]==3]\n",
    "\n",
    "#Logistic Regression factors\n",
    "Y3=seg3[\"Incidence\"]\n",
    "X3=pd.DataFrame()\n",
    "X3[\"AVG Price\"]=(seg3[\"Price_1\"]+\n",
    "               seg3[\"Price_2\"]+\n",
    "               seg3[\"Price_3\"]+\n",
    "               seg3[\"Price_4\"]+\n",
    "               seg3[\"Price_5\"])/5\n",
    "\n",
    "seg3_incidence=LogisticRegression(solver=\"sag\")\n",
    "seg3_incidence.fit(X3, Y3)\n",
    "\n",
    "#Thus, we the price range is used here to predict the purchase incidence of customer\n",
    "seg3_pred=seg3_incidence.predict(P_range_df)\n",
    "seg3_pred_pro=seg3_incidence.predict_proba(P_range_df)\n",
    "seg3_pred_pro=seg3_pred_pro[:][:,1]\n",
    "#Price elasticticy computation using the formulae above\n",
    "pe3=seg3_incidence.coef_[:,0]*P_range*(1-seg3_pred_pro)\n",
    "\n",
    "#Add the price elasticity of segment 1 to the dataframe\n",
    "Price_Elasts[\"AVG Price Elasticity Seg 3\"]=pe3\n"
   ]
  },
  {
   "cell_type": "code",
   "execution_count": 82,
   "metadata": {},
   "outputs": [
    {
     "data": {
      "text/plain": [
       "Text(0.5, 1.0, 'Price Elasticity of Purchase Probability')"
      ]
     },
     "execution_count": 82,
     "metadata": {},
     "output_type": "execute_result"
    },
    {
     "data": {
      "image/png": "[encoded data removed]",
      "text/plain": [
       "<Figure size 864x504 with 1 Axes>"
      ]
     },
     "metadata": {
      "needs_background": "light"
     },
     "output_type": "display_data"
    }
   ],
   "source": [
    "#Plot the new viusals\n",
    "plt.figure(figsize=(12,7))\n",
    "plt.plot(P_range, pe, color=\"r\")\n",
    "plt.plot(P_range, pe1, color=\"b\")\n",
    "plt.plot(P_range, pe2, color=\"orange\")\n",
    "plt.plot(P_range, pe3, color=\"green\")\n",
    "plt.xlabel(\"Pricing Strategies\")\n",
    "plt.ylabel(\"Price Elasticity\")\n",
    "plt.title(\"Price Elasticity of Purchase Probability\")"
   ]
  },
  {
   "cell_type": "markdown",
   "metadata": {},
   "source": [
    "# Purchase Probability with Promotion Feature"
   ]
  },
  {
   "cell_type": "code",
   "execution_count": 85,
   "metadata": {},
   "outputs": [
    {
     "data": {
      "text/plain": [
       "array([[0.78009511]])"
      ]
     },
     "execution_count": 85,
     "metadata": {},
     "output_type": "execute_result"
    }
   ],
   "source": [
    "#Logistic Regression factors using Promotion as a predicting feature\n",
    "YP=purc_data[\"Incidence\"]\n",
    "\n",
    "#Using that Promotion feature as predicting\n",
    "XP=pd.DataFrame()\n",
    "XP[\"AVG Promption\"]=(purc_data[\"Promotion_1\"]+\n",
    "               purc_data[\"Promotion_2\"]+\n",
    "               purc_data[\"Promotion_3\"]+\n",
    "               purc_data[\"Promotion_4\"]+\n",
    "               purc_data[\"Promotion_5\"])/5\n"
   ]
  },
  {
   "cell_type": "code",
   "execution_count": 86,
   "metadata": {},
   "outputs": [
    {
     "data": {
      "text/plain": [
       "array([[0.78581225]])"
      ]
     },
     "execution_count": 86,
     "metadata": {},
     "output_type": "execute_result"
    }
   ],
   "source": [
    "#Model estimation\n",
    "\n",
    "Promo_incidence=LogisticRegression(solver=\"sag\")\n",
    "Promo_incidence.fit(XP, YP)\n",
    "Promo_incidence.coef_"
   ]
  },
  {
   "cell_type": "markdown",
   "metadata": {},
   "source": [
    "# Price Elasticity with Promotion"
   ]
  },
  {
   "cell_type": "code",
   "execution_count": 112,
   "metadata": {},
   "outputs": [
    {
     "data": {
      "text/html": [
       "<div>\n",
       "<style scoped>\n",
       "    .dataframe tbody tr th:only-of-type {\n",
       "        vertical-align: middle;\n",
       "    }\n",
       "\n",
       "    .dataframe tbody tr th {\n",
       "        vertical-align: top;\n",
       "    }\n",
       "\n",
       "    .dataframe thead th {\n",
       "        text-align: right;\n",
       "    }\n",
       "</style>\n",
       "<table border=\"1\" class=\"dataframe\">\n",
       "  <thead>\n",
       "    <tr style=\"text-align: right;\">\n",
       "      <th></th>\n",
       "      <th>Price_Range</th>\n",
       "    </tr>\n",
       "  </thead>\n",
       "  <tbody>\n",
       "    <tr>\n",
       "      <td>0</td>\n",
       "      <td>0.30</td>\n",
       "    </tr>\n",
       "    <tr>\n",
       "      <td>1</td>\n",
       "      <td>0.31</td>\n",
       "    </tr>\n",
       "    <tr>\n",
       "      <td>2</td>\n",
       "      <td>0.32</td>\n",
       "    </tr>\n",
       "    <tr>\n",
       "      <td>3</td>\n",
       "      <td>0.33</td>\n",
       "    </tr>\n",
       "    <tr>\n",
       "      <td>4</td>\n",
       "      <td>0.34</td>\n",
       "    </tr>\n",
       "  </tbody>\n",
       "</table>\n",
       "</div>"
      ],
      "text/plain": [
       "   Price_Range\n",
       "0         0.30\n",
       "1         0.31\n",
       "2         0.32\n",
       "3         0.33\n",
       "4         0.34"
      ]
     },
     "execution_count": 112,
     "metadata": {},
     "output_type": "execute_result"
    }
   ],
   "source": [
    "#Thus, we the promotion range is used here to predict the purchase incidence of customer\n",
    "Elast_promotion_price=P_range_df.rename(columns={0:\"Price_Range\"})\n",
    "#Elast_promotion_price['Promotion']=1\n",
    "Elast_promotion_price.head()"
   ]
  },
  {
   "cell_type": "code",
   "execution_count": 118,
   "metadata": {},
   "outputs": [],
   "source": [
    "YP_Promo_Predict=Promo_incidence.predict_proba(Elast_promotion_price)\n",
    "\n",
    "\n",
    "promo=YP_Promo_Predict[:, 1]\n",
    "\n",
    "pe_promo=Promo_incidence.coef_[:,0]*P_range*(1-YP_Promo_Predict[:, 1])\n"
   ]
  },
  {
   "cell_type": "code",
   "execution_count": 120,
   "metadata": {},
   "outputs": [
    {
     "data": {
      "text/plain": [
       "Text(0.5, 1.0, 'Promotion Elasticity of Purchase Probability')"
      ]
     },
     "execution_count": 120,
     "metadata": {},
     "output_type": "execute_result"
    },
    {
     "data": {
      "image/png": "[encoded data removed]",
      "text/plain": [
       "<Figure size 864x504 with 1 Axes>"
      ]
     },
     "metadata": {
      "needs_background": "light"
     },
     "output_type": "display_data"
    }
   ],
   "source": [
    "#Plot the promotion elasticity visual\n",
    "plt.figure(figsize=(12,7))\n",
    "plt.plot(P_range, pe_promo, color=\"r\")\n",
    "\n",
    "plt.xlabel(\"Promotion Strategies\")\n",
    "plt.ylabel(\"Promotion Elasticity\")\n",
    "plt.title(\"Promotion Elasticity of Purchase Probability\")"
   ]
  },
  {
   "cell_type": "code",
   "execution_count": 122,
   "metadata": {},
   "outputs": [
    {
     "data": {
      "text/html": [
       "<div>\n",
       "<style scoped>\n",
       "    .dataframe tbody tr th:only-of-type {\n",
       "        vertical-align: middle;\n",
       "    }\n",
       "\n",
       "    .dataframe tbody tr th {\n",
       "        vertical-align: top;\n",
       "    }\n",
       "\n",
       "    .dataframe thead th {\n",
       "        text-align: right;\n",
       "    }\n",
       "</style>\n",
       "<table border=\"1\" class=\"dataframe\">\n",
       "  <thead>\n",
       "    <tr style=\"text-align: right;\">\n",
       "      <th></th>\n",
       "      <th>Pricing</th>\n",
       "      <th>AVG Price Elasticity</th>\n",
       "      <th>AVG Price Elasticity Seg 1</th>\n",
       "      <th>AVG Price Elasticity Seg 2</th>\n",
       "      <th>AVG Price Elasticity Seg 3</th>\n",
       "      <th>AVG Promotion Elasticity</th>\n",
       "    </tr>\n",
       "  </thead>\n",
       "  <tbody>\n",
       "    <tr>\n",
       "      <td>0</td>\n",
       "      <td>0.30</td>\n",
       "      <td>-0.037253</td>\n",
       "      <td>-0.052588</td>\n",
       "      <td>-0.101076</td>\n",
       "      <td>-0.081333</td>\n",
       "      <td>0.172498</td>\n",
       "    </tr>\n",
       "    <tr>\n",
       "      <td>1</td>\n",
       "      <td>0.31</td>\n",
       "      <td>-0.039365</td>\n",
       "      <td>-0.055188</td>\n",
       "      <td>-0.105673</td>\n",
       "      <td>-0.084899</td>\n",
       "      <td>0.177871</td>\n",
       "    </tr>\n",
       "    <tr>\n",
       "      <td>2</td>\n",
       "      <td>0.32</td>\n",
       "      <td>-0.041552</td>\n",
       "      <td>-0.057854</td>\n",
       "      <td>-0.110361</td>\n",
       "      <td>-0.088527</td>\n",
       "      <td>0.183219</td>\n",
       "    </tr>\n",
       "    <tr>\n",
       "      <td>3</td>\n",
       "      <td>0.33</td>\n",
       "      <td>-0.043816</td>\n",
       "      <td>-0.060589</td>\n",
       "      <td>-0.115139</td>\n",
       "      <td>-0.092217</td>\n",
       "      <td>0.188541</td>\n",
       "    </tr>\n",
       "    <tr>\n",
       "      <td>4</td>\n",
       "      <td>0.34</td>\n",
       "      <td>-0.046160</td>\n",
       "      <td>-0.063392</td>\n",
       "      <td>-0.120008</td>\n",
       "      <td>-0.095970</td>\n",
       "      <td>0.193837</td>\n",
       "    </tr>\n",
       "  </tbody>\n",
       "</table>\n",
       "</div>"
      ],
      "text/plain": [
       "   Pricing  AVG Price Elasticity  AVG Price Elasticity Seg 1  \\\n",
       "0     0.30             -0.037253                   -0.052588   \n",
       "1     0.31             -0.039365                   -0.055188   \n",
       "2     0.32             -0.041552                   -0.057854   \n",
       "3     0.33             -0.043816                   -0.060589   \n",
       "4     0.34             -0.046160                   -0.063392   \n",
       "\n",
       "   AVG Price Elasticity Seg 2  AVG Price Elasticity Seg 3  \\\n",
       "0                   -0.101076                   -0.081333   \n",
       "1                   -0.105673                   -0.084899   \n",
       "2                   -0.110361                   -0.088527   \n",
       "3                   -0.115139                   -0.092217   \n",
       "4                   -0.120008                   -0.095970   \n",
       "\n",
       "   AVG Promotion Elasticity  \n",
       "0                  0.172498  \n",
       "1                  0.177871  \n",
       "2                  0.183219  \n",
       "3                  0.188541  \n",
       "4                  0.193837  "
      ]
     },
     "execution_count": 122,
     "metadata": {},
     "output_type": "execute_result"
    }
   ],
   "source": [
    "Price_Elasts[\"AVG Promotion Elasticity\"]=pe_promo\n",
    "Price_Elasts.head()"
   ]
  },
  {
   "cell_type": "code",
   "execution_count": 124,
   "metadata": {},
   "outputs": [
    {
     "data": {
      "text/plain": [
       "Text(0.5, 1.0, 'Comparision of Promotion and Price Elasticity of Purchase Probability')"
      ]
     },
     "execution_count": 124,
     "metadata": {},
     "output_type": "execute_result"
    },
    {
     "data": {
      "image/png": "[encoded data removed]",
      "text/plain": [
       "<Figure size 864x504 with 1 Axes>"
      ]
     },
     "metadata": {
      "needs_background": "light"
     },
     "output_type": "display_data"
    }
   ],
   "source": [
    "#Plot the new viusals\n",
    "plt.figure(figsize=(12,7))\n",
    "plt.plot(P_range, pe_promo, color=\"r\")\n",
    "plt.plot(P_range, pe, color=\"g\")\n",
    "plt.xlabel(\"Promotion & Pricing Strategies\")\n",
    "plt.ylabel(\"Promotion & Price Elasticity\")\n",
    "plt.title(\"Comparision of Promotion and Price Elasticity of Purchase Probability\")"
   ]
  },
  {
   "cell_type": "markdown",
   "metadata": {},
   "source": [
    "#                                                     The End"
   ]
  }
 ],
 "metadata": {
  "kernelspec": {
   "display_name": "Python 3",
   "language": "python",
   "name": "python3"
  },
  "language_info": {
   "codemirror_mode": {
    "name": "ipython",
    "version": 3
   },
   "file_extension": ".py",
   "mimetype": "text/x-python",
   "name": "python",
   "nbconvert_exporter": "python",
   "pygments_lexer": "ipython3",
   "version": "3.7.4"
  }
 },
 "nbformat": 4,
 "nbformat_minor": 2
}
